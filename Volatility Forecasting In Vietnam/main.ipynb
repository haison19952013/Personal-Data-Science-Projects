{
 "cells": [
  {
   "cell_type": "markdown",
   "metadata": {},
   "source": [
    "# 1. Getting Data From API"
   ]
  },
  {
   "cell_type": "code",
   "execution_count": 24,
   "metadata": {},
   "outputs": [
    {
     "name": "stdout",
     "output_type": "stream",
     "text": [
      "The autoreload extension is already loaded. To reload it, use:\n",
      "  %reload_ext autoreload\n"
     ]
    }
   ],
   "source": [
    "%load_ext autoreload\n",
    "%autoreload 2\n",
    "import requests\n",
    "import pandas as pd\n",
    "from config import settings\n",
    "import data\n",
    "import sqlite3\n",
    "import matplotlib.pyplot as plt\n",
    "from model import GarchModel"
   ]
  },
  {
   "cell_type": "code",
   "execution_count": 25,
   "metadata": {},
   "outputs": [
    {
     "data": {
      "text/html": [
       "<table class=\"simpletable\">\n",
       "<caption>Constant Mean - GARCH Model Results</caption>\n",
       "<tr>\n",
       "  <th>Dep. Variable:</th>       <td>returns</td>      <th>  R-squared:         </th>  <td>   0.000</td> \n",
       "</tr>\n",
       "<tr>\n",
       "  <th>Mean Model:</th>       <td>Constant Mean</td>   <th>  Adj. R-squared:    </th>  <td>   0.000</td> \n",
       "</tr>\n",
       "<tr>\n",
       "  <th>Vol Model:</th>            <td>GARCH</td>       <th>  Log-Likelihood:    </th> <td>  -523.330</td>\n",
       "</tr>\n",
       "<tr>\n",
       "  <th>Distribution:</th>        <td>Normal</td>       <th>  AIC:               </th> <td>   1054.66</td>\n",
       "</tr>\n",
       "<tr>\n",
       "  <th>Method:</th>        <td>Maximum Likelihood</td> <th>  BIC:               </th> <td>   1068.70</td>\n",
       "</tr>\n",
       "<tr>\n",
       "  <th></th>                        <td></td>          <th>  No. Observations:  </th>     <td>247</td>   \n",
       "</tr>\n",
       "<tr>\n",
       "  <th>Date:</th>           <td>Tue, May 28 2024</td>  <th>  Df Residuals:      </th>     <td>246</td>   \n",
       "</tr>\n",
       "<tr>\n",
       "  <th>Time:</th>               <td>21:08:29</td>      <th>  Df Model:          </th>      <td>1</td>    \n",
       "</tr>\n",
       "</table>\n",
       "<table class=\"simpletable\">\n",
       "<caption>Mean Model</caption>\n",
       "<tr>\n",
       "   <td></td>     <th>coef</th>     <th>std err</th>      <th>t</th>       <th>P>|t|</th>     <th>95.0% Conf. Int.</th>  \n",
       "</tr>\n",
       "<tr>\n",
       "  <th>mu</th> <td>    0.2090</td> <td>    0.144</td> <td>    1.455</td> <td>    0.146</td> <td>[-7.260e-02,  0.491]</td>\n",
       "</tr>\n",
       "</table>\n",
       "<table class=\"simpletable\">\n",
       "<caption>Volatility Model</caption>\n",
       "<tr>\n",
       "      <td></td>        <th>coef</th>     <th>std err</th>      <th>t</th>       <th>P>|t|</th>      <th>95.0% Conf. Int.</th>   \n",
       "</tr>\n",
       "<tr>\n",
       "  <th>omega</th>    <td>    0.0363</td> <td>2.487e-02</td> <td>    1.461</td> <td>    0.144</td> <td>[-1.242e-02,8.508e-02]</td>\n",
       "</tr>\n",
       "<tr>\n",
       "  <th>alpha[1]</th>   <td>0.0000</td>   <td>1.406e-02</td>   <td>0.000</td>   <td>    1.000</td> <td>[-2.756e-02,2.756e-02]</td>\n",
       "</tr>\n",
       "<tr>\n",
       "  <th>beta[1]</th>  <td>    0.9840</td> <td>6.329e-03</td> <td>  155.467</td>   <td>0.000</td>      <td>[  0.972,  0.996]</td>  \n",
       "</tr>\n",
       "</table><br/><br/>Covariance estimator: robust"
      ],
      "text/latex": [
       "\\begin{center}\n",
       "\\begin{tabular}{lclc}\n",
       "\\toprule\n",
       "\\textbf{Dep. Variable:} &      returns       & \\textbf{  R-squared:         } &     0.000   \\\\\n",
       "\\textbf{Mean Model:}    &   Constant Mean    & \\textbf{  Adj. R-squared:    } &     0.000   \\\\\n",
       "\\textbf{Vol Model:}     &       GARCH        & \\textbf{  Log-Likelihood:    } &   -523.330  \\\\\n",
       "\\textbf{Distribution:}  &       Normal       & \\textbf{  AIC:               } &    1054.66  \\\\\n",
       "\\textbf{Method:}        & Maximum Likelihood & \\textbf{  BIC:               } &    1068.70  \\\\\n",
       "\\textbf{}               &                    & \\textbf{  No. Observations:  } &    247      \\\\\n",
       "\\textbf{Date:}          &  Tue, May 28 2024  & \\textbf{  Df Residuals:      } &    246      \\\\\n",
       "\\textbf{Time:}          &      21:08:29      & \\textbf{  Df Model:          } &     1       \\\\\n",
       "\\bottomrule\n",
       "\\end{tabular}\n",
       "\\begin{tabular}{lccccc}\n",
       "            & \\textbf{coef} & \\textbf{std err} & \\textbf{t} & \\textbf{P$> |$t$|$} & \\textbf{95.0\\% Conf. Int.}  \\\\\n",
       "\\midrule\n",
       "\\textbf{mu} &       0.2090  &        0.144     &     1.455  &          0.146       &    [-7.260e-02,  0.491]     \\\\\n",
       "                  & \\textbf{coef} & \\textbf{std err} & \\textbf{t} & \\textbf{P$> |$t$|$} & \\textbf{95.0\\% Conf. Int.}  \\\\\n",
       "\\midrule\n",
       "\\textbf{omega}    &       0.0363  &    2.487e-02     &     1.461  &          0.144       &   [-1.242e-02,8.508e-02]    \\\\\n",
       "\\textbf{alpha[1]} &     0.0000    &    1.406e-02     &   0.000    &          1.000       &   [-2.756e-02,2.756e-02]    \\\\\n",
       "\\textbf{beta[1]}  &       0.9840  &    6.329e-03     &   155.467  &        0.000         &     [  0.972,  0.996]       \\\\\n",
       "\\bottomrule\n",
       "\\end{tabular}\n",
       "%\\caption{Constant Mean - GARCH Model Results}\n",
       "\\end{center}\n",
       "\n",
       "Covariance estimator: robust"
      ],
      "text/plain": [
       "<class 'statsmodels.iolib.summary.Summary'>\n",
       "\"\"\"\n",
       "                     Constant Mean - GARCH Model Results                      \n",
       "==============================================================================\n",
       "Dep. Variable:                returns   R-squared:                       0.000\n",
       "Mean Model:             Constant Mean   Adj. R-squared:                  0.000\n",
       "Vol Model:                      GARCH   Log-Likelihood:               -523.330\n",
       "Distribution:                  Normal   AIC:                           1054.66\n",
       "Method:            Maximum Likelihood   BIC:                           1068.70\n",
       "                                        No. Observations:                  247\n",
       "Date:                Tue, May 28 2024   Df Residuals:                      246\n",
       "Time:                        21:08:29   Df Model:                            1\n",
       "                                 Mean Model                                \n",
       "===========================================================================\n",
       "                 coef    std err          t      P>|t|     95.0% Conf. Int.\n",
       "---------------------------------------------------------------------------\n",
       "mu             0.2090      0.144      1.455      0.146 [-7.260e-02,  0.491]\n",
       "                               Volatility Model                              \n",
       "=============================================================================\n",
       "                 coef    std err          t      P>|t|       95.0% Conf. Int.\n",
       "-----------------------------------------------------------------------------\n",
       "omega          0.0363  2.487e-02      1.461      0.144 [-1.242e-02,8.508e-02]\n",
       "alpha[1]       0.0000  1.406e-02      0.000      1.000 [-2.756e-02,2.756e-02]\n",
       "beta[1]        0.9840  6.329e-03    155.467      0.000      [  0.972,  0.996]\n",
       "=============================================================================\n",
       "\n",
       "Covariance estimator: robust\n",
       "\"\"\""
      ]
     },
     "execution_count": 25,
     "metadata": {},
     "output_type": "execute_result"
    }
   ],
   "source": [
    "connection = sqlite3.connect(settings.db_name, check_same_thread=False)\n",
    "repo = data.SQLRepository(connection = connection)\n",
    "gm_FPT = GarchModel(ticker = 'FPT.VN', repo = repo,use_new_data = False)\n",
    "gm_FPT.wrangle_data()\n",
    "gm_FPT.fit(p =1, q = 1)\n",
    "gm_FPT.model.summary()"
   ]
  },
  {
   "cell_type": "code",
   "execution_count": 26,
   "metadata": {},
   "outputs": [
    {
     "data": {
      "text/plain": [
       "date\n",
       "2024-05-20   -1.115242\n",
       "2024-05-21    2.255639\n",
       "2024-05-22    1.470588\n",
       "2024-05-23   -0.362319\n",
       "2024-05-24   -4.072727\n",
       "Name: returns, dtype: float64"
      ]
     },
     "execution_count": 26,
     "metadata": {},
     "output_type": "execute_result"
    }
   ],
   "source": [
    "gm_FPT.data.tail()"
   ]
  },
  {
   "cell_type": "code",
   "execution_count": 27,
   "metadata": {},
   "outputs": [
    {
     "data": {
      "text/plain": [
       "{'2024-05-27T00:00:00': 1.5442791495679262,\n",
       " '2024-05-28T00:00:00': 1.5436811012744893,\n",
       " '2024-05-29T00:00:00': 1.5430924003527244,\n",
       " '2024-05-30T00:00:00': 1.5425129041036933,\n",
       " '2024-05-31T00:00:00': 1.541942471903951}"
      ]
     },
     "execution_count": 27,
     "metadata": {},
     "output_type": "execute_result"
    }
   ],
   "source": [
    "pred = gm_FPT.predict_volatility(horizon = 5)\n",
    "pred"
   ]
  },
  {
   "cell_type": "code",
   "execution_count": 44,
   "metadata": {},
   "outputs": [],
   "source": [
    "gm_FPT.load()"
   ]
  },
  {
   "cell_type": "markdown",
   "metadata": {},
   "source": [
    "Go to the command line, navigate to the directory for this project, and start your app server by entering the following command.\n",
    "\n",
    "```bash\n",
    "uvicorn my_api:app --reload --workers 1 --host localhost --port 8008\n",
    "```"
   ]
  },
  {
   "cell_type": "code",
   "execution_count": 46,
   "metadata": {},
   "outputs": [
    {
     "name": "stdout",
     "output_type": "stream",
     "text": [
      "response code: 200\n"
     ]
    },
    {
     "data": {
      "text/plain": [
       "{'message': 'Hello world!'}"
      ]
     },
     "execution_count": 46,
     "metadata": {},
     "output_type": "execute_result"
    }
   ],
   "source": [
    "url = \"http://localhost:8008/hello\"\n",
    "response = requests.get(url = url)\n",
    "\n",
    "print(\"response code:\", response.status_code)\n",
    "response.json()"
   ]
  },
  {
   "cell_type": "code",
   "execution_count": 49,
   "metadata": {},
   "outputs": [
    {
     "name": "stdout",
     "output_type": "stream",
     "text": [
      "response code: 200\n"
     ]
    },
    {
     "data": {
      "text/plain": [
       "{'ticker': 'FPT.VNNNNN',\n",
       " 'use_new_data': True,\n",
       " 'n_observations': 200,\n",
       " 'p': 1,\n",
       " 'q': 1,\n",
       " 'success': False,\n",
       " 'message': 'Expecting value: line 1 column 1 (char 0)'}"
      ]
     },
     "execution_count": 49,
     "metadata": {},
     "output_type": "execute_result"
    }
   ],
   "source": [
    "# URL of '/fit' path\n",
    "url = \"http://localhost:8008/fit\"\n",
    "\n",
    "# Data to send to path\n",
    "json = {\n",
    "    \"ticker\": \"FPT.VN\",\n",
    "    \"use_new_data\": False,\n",
    "    \"n_observations\" : 200,\n",
    "    \"p\": 1,\n",
    "    \"q\" : 1\n",
    "}\n",
    "\n",
    "# Response of post request\n",
    "response = requests.post(url = url, json = json)\n",
    "\n",
    "# Inspect response\n",
    "print(\"response code:\", response.status_code)\n",
    "response.json()"
   ]
  },
  {
   "cell_type": "code",
   "execution_count": 53,
   "metadata": {},
   "outputs": [
    {
     "data": {
      "text/plain": [
       "{'ticker': 'FPT.VN',\n",
       " 'n_days': 5,\n",
       " 'success': True,\n",
       " 'forecast': {'2024-03-15T00:00:00': 1.2582860041070854,\n",
       "  '2024-03-18T00:00:00': 1.2547396314184365,\n",
       "  '2024-03-19T00:00:00': 1.2512236304315763,\n",
       "  '2024-03-20T00:00:00': 1.2477377978019735,\n",
       "  '2024-03-21T00:00:00': 1.2442819309389883},\n",
       " 'message': ''}"
      ]
     },
     "execution_count": 53,
     "metadata": {},
     "output_type": "execute_result"
    }
   ],
   "source": [
    "# URL of `/predict` path\n",
    "url = \"http://localhost:8008/predict\"\n",
    "# Data to send to path\n",
    "json = {'ticker':'FPT.VN', 'n_days': 5}\n",
    "# Response of post request\n",
    "response = requests.post(url = url, json = json)\n",
    "# Response JSON to be submitted to grader\n",
    "prediction = response.json()\n",
    "# Inspect JSON\n",
    "prediction"
   ]
  }
 ],
 "metadata": {
  "kernelspec": {
   "display_name": "py37tf",
   "language": "python",
   "name": "python3"
  },
  "language_info": {
   "codemirror_mode": {
    "name": "ipython",
    "version": 3
   },
   "file_extension": ".py",
   "mimetype": "text/x-python",
   "name": "python",
   "nbconvert_exporter": "python",
   "pygments_lexer": "ipython3",
   "version": "3.8.18"
  }
 },
 "nbformat": 4,
 "nbformat_minor": 2
}
